{
 "cells": [
  {
   "cell_type": "code",
   "execution_count": null,
   "metadata": {},
   "outputs": [],
   "source": [
    "# Autoreload\n",
    "%cd ..\n",
    "%load_ext autoreload\n",
    "%autoreload 2"
   ]
  },
  {
   "cell_type": "code",
   "execution_count": null,
   "metadata": {},
   "outputs": [],
   "source": [
    "# Imports\n",
    "from tools import get_client, read_yaml, read_csv\n",
    "from tqdm import tqdm"
   ]
  },
  {
   "cell_type": "code",
   "execution_count": null,
   "metadata": {},
   "outputs": [],
   "source": [
    "# Load AMT client\n",
    "config = read_yaml('config.yaml')\n",
    "aws_keys = read_yaml('aws_keys.yaml')\n",
    "\n",
    "client = get_client(aws_keys, config)"
   ]
  },
  {
   "cell_type": "code",
   "execution_count": null,
   "metadata": {},
   "outputs": [],
   "source": [
    "# Approve assignments\n",
    "in_file = 'data/ans_data.csv'\n",
    "assignment_id_field = 'AssignmentId'\n",
    "\n",
    "cont = read_csv(in_file)\n",
    "\n",
    "# Optionally filter rows with condition\n",
    "approval_condition = lambda row: row['reject'] == 'No'\n",
    "approved_rows = list(filter(approval_condition, cont))\n",
    "\n",
    "for row in tqdm(approved_rows, ascii=True):\n",
    "    aid = row[assignment_id_field]\n",
    "    try:\n",
    "        client.approve_assignment(AssignmentId=aid, OverrideRejection=True)\n",
    "    except client.exceptions.RequestError:\n",
    "        # Already Approved\n",
    "        pass"
   ]
  },
  {
   "cell_type": "code",
   "execution_count": null,
   "metadata": {},
   "outputs": [],
   "source": [
    "# Reject assignments\n",
    "in_file = 'data/ans_data.csv'\n",
    "assignment_id_field = 'AssignmentId'\n",
    "answer_field = 'DescriptionText'\n",
    "\n",
    "# It is good to give an adequate reason for rejections\n",
    "rejection_message = 'Your submission (\"{answer}\") did not follow the instructions because ...'\n",
    "\n",
    "cont = read_csv(in_file)\n",
    "\n",
    "# Optionally filter rows with condition\n",
    "approval_condition = lambda row: row['reject'] == 'Yes'\n",
    "rejected_rows = list(filter(rejection_condition, cont))\n",
    "\n",
    "for row in tqdm(rejected_rows, ascii=True):\n",
    "    aid = row[assignment_id_field]\n",
    "    msg = rejection_message.format(answer=row[answer_field])\n",
    "    try:\n",
    "        client.reject_assignment(AssignmentId=aid, RequesterFeedback=rejection_message)\n",
    "    except client.exceptions.RequestError:\n",
    "        # Already rejected or approved\n",
    "        pass"
   ]
  }
 ],
 "metadata": {
  "interpreter": {
   "hash": "d88edfd19db27f48e3ee6cf13042ac43d947a5fb281b6973d048c33d5feab42f"
  },
  "kernelspec": {
   "display_name": "Python 3.9.7 64-bit ('base': conda)",
   "language": "python",
   "name": "python3"
  },
  "language_info": {
   "codemirror_mode": {
    "name": "ipython",
    "version": 3
   },
   "file_extension": ".py",
   "mimetype": "text/x-python",
   "name": "python",
   "nbconvert_exporter": "python",
   "pygments_lexer": "ipython3",
   "version": "3.9.7"
  },
  "orig_nbformat": 4
 },
 "nbformat": 4,
 "nbformat_minor": 2
}
