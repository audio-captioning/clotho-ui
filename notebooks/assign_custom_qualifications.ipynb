{
 "cells": [
  {
   "cell_type": "code",
   "execution_count": null,
   "metadata": {},
   "outputs": [],
   "source": [
    "# Autoreload\n",
    "%cd ..\n",
    "%load_ext autoreload\n",
    "%autoreload 2"
   ]
  },
  {
   "cell_type": "code",
   "execution_count": null,
   "metadata": {},
   "outputs": [],
   "source": [
    "from tools import get_client, read_yaml\n",
    "from tqdm import tqdm"
   ]
  },
  {
   "cell_type": "code",
   "execution_count": null,
   "metadata": {},
   "outputs": [],
   "source": [
    "# Load AMT client\n",
    "config = read_yaml('config.yaml')\n",
    "aws_keys = read_yaml('aws_keys.yaml')\n",
    "\n",
    "client = get_client(aws_keys, config)"
   ]
  },
  {
   "cell_type": "code",
   "execution_count": null,
   "metadata": {},
   "outputs": [],
   "source": [
    "# Batch qualifications\n",
    "batch_number = 1\n",
    "batch_index = batch_number - 1\n",
    "\n",
    "custom_quals = read_yaml('custom_qualifications.yaml')\n",
    "\n",
    "worker_ids = []\n",
    "\n",
    "batch_qid = custom_quals['BATCH'][batch_index]\n",
    "\n",
    "for wid in tqdm(worker_ids, ascii=True):\n",
    "    try:\n",
    "        client.associate_qualification_with_worker(\n",
    "            QualificationTypeId=batch_qid,\n",
    "            WorkerId=wid,\n",
    "            SendNotification=False\n",
    "        )\n",
    "    except client.exceptions.ClientError:\n",
    "        print(f'Worker {wid} already has qualificaiton. Skipping..')"
   ]
  },
  {
   "cell_type": "code",
   "execution_count": null,
   "metadata": {},
   "outputs": [],
   "source": [
    "# Blacklist qualification\n",
    "custom_quals = read_yaml('custom_qualifications.yaml')\n",
    "\n",
    "worker_ids = []\n",
    "\n",
    "blacklist_qid = custom_quals['BLACKLIST']\n",
    "\n",
    "for wid in tqdm(worker_ids, ascii=True):\n",
    "    try:\n",
    "        client.associate_qualification_with_worker(\n",
    "            QualificationTypeId=blacklist_qid,\n",
    "            WorkerId=wid,\n",
    "            SendNotification=False\n",
    "        )\n",
    "    except client.exceptions.ClientError:\n",
    "        print(f'Worker {wid} already has qualificaiton. Skipping..')"
   ]
  }
 ],
 "metadata": {
  "interpreter": {
   "hash": "d88edfd19db27f48e3ee6cf13042ac43d947a5fb281b6973d048c33d5feab42f"
  },
  "kernelspec": {
   "display_name": "Python 3.9.7 64-bit ('base': conda)",
   "language": "python",
   "name": "python3"
  },
  "language_info": {
   "codemirror_mode": {
    "name": "ipython",
    "version": 3
   },
   "file_extension": ".py",
   "mimetype": "text/x-python",
   "name": "python",
   "nbconvert_exporter": "python",
   "pygments_lexer": "ipython3",
   "version": "3.9.7"
  },
  "orig_nbformat": 4
 },
 "nbformat": 4,
 "nbformat_minor": 2
}
